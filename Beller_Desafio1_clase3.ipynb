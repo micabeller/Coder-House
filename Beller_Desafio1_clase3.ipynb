{
  "nbformat": 4,
  "nbformat_minor": 0,
  "metadata": {
    "colab": {
      "name": "Beller_Desafio1_clase3",
      "provenance": [],
      "authorship_tag": "ABX9TyOFlPOmJId1T7XW3GQKI3Go",
      "include_colab_link": true
    },
    "kernelspec": {
      "name": "python3",
      "display_name": "Python 3"
    },
    "language_info": {
      "name": "python"
    }
  },
  "cells": [
    {
      "cell_type": "markdown",
      "metadata": {
        "id": "view-in-github",
        "colab_type": "text"
      },
      "source": [
        "<a href=\"https://colab.research.google.com/github/micabeller/Coder-House/blob/main/Beller_Desafio1_clase3.ipynb\" target=\"_parent\"><img src=\"https://colab.research.google.com/assets/colab-badge.svg\" alt=\"Open In Colab\"/></a>"
      ]
    },
    {
      "cell_type": "code",
      "execution_count": null,
      "metadata": {
        "id": "tCc5Xdg4JZns"
      },
      "outputs": [],
      "source": [
        "# 1 Factorial de cualquier número\n",
        "def fact(x):       \n",
        "  fac = 1                \n",
        "  for i in range(1,x+1):\n",
        "      fac *= i\n",
        "  return(fac)"
      ]
    },
    {
      "cell_type": "code",
      "source": [
        "#Probando la función del ej 1 (factoriales)\n",
        "fact(10)"
      ],
      "metadata": {
        "colab": {
          "base_uri": "https://localhost:8080/"
        },
        "id": "Ug_n52L6RD9X",
        "outputId": "fe02af0f-269b-4c8c-98b1-1bf93161d464"
      },
      "execution_count": null,
      "outputs": [
        {
          "output_type": "execute_result",
          "data": {
            "text/plain": [
              "3628800"
            ]
          },
          "metadata": {},
          "execution_count": 2
        }
      ]
    },
    {
      "cell_type": "code",
      "source": [
        "#Ejercicio 2: suma de números consecutivos\n",
        "def sumaSer(x,y):\n",
        "\n",
        "    if x < y:\n",
        "        i = 0\n",
        "        for i in range(x+1,y+1):\n",
        "            z = int((y-x+ 1)*((x+y)/2))\n",
        "            return(z)\n",
        "    else:\n",
        "        print(\"Error, X debe ser menor a Y\")"
      ],
      "metadata": {
        "id": "3Qo58SEdRJf8"
      },
      "execution_count": null,
      "outputs": []
    },
    {
      "cell_type": "code",
      "source": [
        "#Probando la función del ej 2 (Suma de numeros consecutivos)\n",
        "\n",
        "#Error cuando x>y\n",
        "sumaSer(2,1)"
      ],
      "metadata": {
        "colab": {
          "base_uri": "https://localhost:8080/"
        },
        "id": "nNzN7ffnRMOS",
        "outputId": "bbb80578-e8bc-421c-b921-2c8bb35b081b"
      },
      "execution_count": null,
      "outputs": [
        {
          "output_type": "stream",
          "name": "stdout",
          "text": [
            "Error, X debe ser menor a Y\n"
          ]
        }
      ]
    },
    {
      "cell_type": "code",
      "source": [
        "#Probando la función del ej 2 (Suma de numeros consecutivos)\n",
        "\n",
        "#X<Y\n",
        "sumaSer(9,14)"
      ],
      "metadata": {
        "colab": {
          "base_uri": "https://localhost:8080/"
        },
        "id": "XcX2mM83RV9E",
        "outputId": "84bec448-f4b7-48a0-96be-58c62258a4c2"
      },
      "execution_count": null,
      "outputs": [
        {
          "output_type": "execute_result",
          "data": {
            "text/plain": [
              "69"
            ]
          },
          "metadata": {},
          "execution_count": 7
        }
      ]
    },
    {
      "cell_type": "code",
      "source": [
        ""
      ],
      "metadata": {
        "id": "f6PeObmJRORo"
      },
      "execution_count": null,
      "outputs": []
    }
  ]
}